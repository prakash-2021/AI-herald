{
  "nbformat": 4,
  "nbformat_minor": 0,
  "metadata": {
    "colab": {
      "provenance": [],
      "include_colab_link": true
    },
    "kernelspec": {
      "name": "python3",
      "display_name": "Python 3"
    },
    "language_info": {
      "name": "python"
    }
  },
  "cells": [
    {
      "cell_type": "markdown",
      "metadata": {
        "id": "view-in-github",
        "colab_type": "text"
      },
      "source": [
        "<a href=\"https://colab.research.google.com/github/prakash-2021/AI-herald/blob/main/Worksheet0_PrakashShrestha.ipynb\" target=\"_parent\"><img src=\"https://colab.research.google.com/assets/colab-badge.svg\" alt=\"Open In Colab\"/></a>"
      ]
    },
    {
      "cell_type": "markdown",
      "source": [
        "#4.1 Exercise on Functions:"
      ],
      "metadata": {
        "id": "TE4RfUQYy0lz"
      }
    },
    {
      "cell_type": "markdown",
      "source": [
        "Task - 1:\n",
        "Create a Python program that converts between different units of measurement."
      ],
      "metadata": {
        "id": "2J73_MWky3kn"
      }
    },
    {
      "cell_type": "code",
      "execution_count": null,
      "metadata": {
        "colab": {
          "base_uri": "https://localhost:8080/"
        },
        "id": "pYxca16YypPG",
        "outputId": "26b0bb92-98ac-4cbe-e6d3-72930674883e"
      },
      "outputs": [
        {
          "output_type": "stream",
          "name": "stdout",
          "text": [
            "Unit Conversion Program\n",
            "Supported conversion types:\n",
            "1. Length: meters (m) to feet (ft) and vice versa\n",
            "2. Weight: kilograms (kg) to pounds (lbs) and vice versa\n",
            "3. Volume: liters (L) to gallons (gal) and vice versa\n",
            "Enter the conversion type (length, weight, volume): length\n",
            "Enter the value to convert: 500\n",
            "Convert from (m/ft): m\n",
            "Convert to (m/ft): ft\n",
            "500.0 m is equal to 1640.42 ft\n"
          ]
        }
      ],
      "source": [
        "def convert_units(value, from_unit, to_unit):\n",
        "    \"\"\"\n",
        "    Converts a value from one unit to another.\n",
        "\n",
        "    Parameters:\n",
        "        value (float): The value to be converted.\n",
        "        from_unit (str): The unit to convert from.\n",
        "        to_unit (str): The unit to convert to.\n",
        "\n",
        "    Returns:\n",
        "        float: The converted value.\n",
        "    \"\"\"\n",
        "\n",
        "    if from_unit == \"m\" and to_unit == \"ft\":\n",
        "        return value * 3.28084\n",
        "    elif from_unit == \"ft\" and to_unit == \"m\":\n",
        "        return value / 3.28084\n",
        "\n",
        "    elif from_unit == \"kg\" and to_unit == \"lbs\":\n",
        "        return value * 2.20462\n",
        "    elif from_unit == \"lbs\" and to_unit == \"kg\":\n",
        "        return value / 2.20462\n",
        "\n",
        "    elif from_unit == \"L\" and to_unit == \"gal\":\n",
        "        return value * 0.264172\n",
        "    elif from_unit == \"gal\" and to_unit == \"L\":\n",
        "        return value / 0.264172\n",
        "\n",
        "    else:\n",
        "        raise ValueError(\"Unsupported conversion type.\")\n",
        "\n",
        "def main():\n",
        "    print(\"Unit Conversion Program\")\n",
        "    print(\"Supported conversion types:\")\n",
        "    print(\"1. Length: meters (m) to feet (ft) and vice versa\")\n",
        "    print(\"2. Weight: kilograms (kg) to pounds (lbs) and vice versa\")\n",
        "    print(\"3. Volume: liters (L) to gallons (gal) and vice versa\")\n",
        "\n",
        "    try:\n",
        "        conversion_type = input(\"Enter the conversion type (length, weight, volume): \").strip().lower()\n",
        "\n",
        "        if conversion_type not in [\"length\", \"weight\", \"volume\"]:\n",
        "            print(\"Error: Invalid conversion type.\")\n",
        "            return\n",
        "\n",
        "        value = float(input(\"Enter the value to convert: \"))\n",
        "\n",
        "        if conversion_type == \"length\":\n",
        "            from_unit = input(\"Convert from (m/ft): \").strip().lower()\n",
        "            to_unit = input(\"Convert to (m/ft): \").strip().lower()\n",
        "        elif conversion_type == \"weight\":\n",
        "            from_unit = input(\"Convert from (kg/lbs): \").strip().lower()\n",
        "            to_unit = input(\"Convert to (kg/lbs): \").strip().lower()\n",
        "        elif conversion_type == \"volume\":\n",
        "            from_unit = input(\"Convert from (L/gal): \").strip().lower()\n",
        "            to_unit = input(\"Convert to (L/gal): \").strip().lower()\n",
        "        result = convert_units(value, from_unit, to_unit)\n",
        "        print(f\"{value} {from_unit} is equal to {result:.2f} {to_unit}\")\n",
        "\n",
        "    except ValueError as e:\n",
        "        print(f\"Error: {e}\")\n",
        "    except Exception as e:\n",
        "        print(f\"An unexpected error occurred: {e}\")\n",
        "\n",
        "if __name__ == \"__main__\":\n",
        "    main()"
      ]
    },
    {
      "cell_type": "markdown",
      "source": [
        "Task - 2:\n",
        "Create a Python program that performs various mathematical operations on a list of numbers."
      ],
      "metadata": {
        "id": "PWwPLgwlzwzm"
      }
    },
    {
      "cell_type": "code",
      "source": [
        "def calculate_sum(numbers):\n",
        "    \"\"\"\n",
        "    Calculate the sum of a list of numbers.\n",
        "\n",
        "    Parameters:\n",
        "        numbers (list): A list of numeric values.\n",
        "\n",
        "    Returns:\n",
        "        float: The sum of the numbers.\n",
        "    \"\"\"\n",
        "    return sum(numbers)\n",
        "\n",
        "def calculate_average(numbers):\n",
        "    \"\"\"\n",
        "    Calculate the average of a list of numbers.\n",
        "\n",
        "    Parameters:\n",
        "        numbers (list): A list of numeric values.\n",
        "\n",
        "    Returns:\n",
        "        float: The average of the numbers.\n",
        "    \"\"\"\n",
        "    return sum(numbers) / len(numbers)\n",
        "\n",
        "def find_maximum(numbers):\n",
        "    \"\"\"\n",
        "    Find the maximum value in a list of numbers.\n",
        "\n",
        "    Parameters:\n",
        "        numbers (list): A list of numeric values.\n",
        "\n",
        "    Returns:\n",
        "        float: The maximum value in the list.\n",
        "    \"\"\"\n",
        "    return max(numbers)\n",
        "\n",
        "def find_minimum(numbers):\n",
        "    \"\"\"\n",
        "    Find the minimum value in a list of numbers.\n",
        "\n",
        "    Parameters:\n",
        "        numbers (list): A list of numeric values.\n",
        "\n",
        "    Returns:\n",
        "        float: The minimum value in the list.\n",
        "    \"\"\"\n",
        "    return min(numbers)\n",
        "\n",
        "def main():\n",
        "    print(\"Mathematical Operations Program\")\n",
        "    print(\"Supported operations:\")\n",
        "    print(\"1. Sum\")\n",
        "    print(\"2. Average\")\n",
        "    print(\"3. Maximum\")\n",
        "    print(\"4. Minimum\")\n",
        "\n",
        "    try:\n",
        "        operation = input(\"Enter the operation (sum, average, maximum, minimum): \").strip().lower()\n",
        "\n",
        "        if operation not in [\"sum\", \"average\", \"maximum\", \"minimum\"]:\n",
        "            print(\"Error: Invalid operation.\")\n",
        "            return\n",
        "        input_numbers = input(\"Enter a list of numbers separated by spaces: \").strip()\n",
        "        if not input_numbers:\n",
        "            raise ValueError(\"Empty input. Please enter at least one number.\")\n",
        "        numbers = list(map(float, input_numbers.split()))\n",
        "        if operation == \"sum\":\n",
        "            result = calculate_sum(numbers)\n",
        "            print(f\"The sum of the numbers is: {result}\")\n",
        "        elif operation == \"average\":\n",
        "            result = calculate_average(numbers)\n",
        "            print(f\"The average of the numbers is: {result}\")\n",
        "        elif operation == \"maximum\":\n",
        "            result = find_maximum(numbers)\n",
        "            print(f\"The maximum number is: {result}\")\n",
        "        elif operation == \"minimum\":\n",
        "            result = find_minimum(numbers)\n",
        "            print(f\"The minimum number is: {result}\")\n",
        "\n",
        "    except ValueError as e:\n",
        "        print(f\"Error: {e}\")\n",
        "    except ZeroDivisionError:\n",
        "        print(\"Error: Cannot calculate average of an empty list.\")\n",
        "    except Exception as e:\n",
        "        print(f\"An unexpected error occurred: {e}\")\n",
        "\n",
        "if __name__ == \"__main__\":\n",
        "    main()"
      ],
      "metadata": {
        "colab": {
          "base_uri": "https://localhost:8080/"
        },
        "id": "aRsBWrS5zzN3",
        "outputId": "289da743-cb27-4780-ca9a-e66a1de44a4d"
      },
      "execution_count": null,
      "outputs": [
        {
          "output_type": "stream",
          "name": "stdout",
          "text": [
            "Mathematical Operations Program\n",
            "Supported operations:\n",
            "1. Sum\n",
            "2. Average\n",
            "3. Maximum\n",
            "4. Minimum\n",
            "Enter the operation (sum, average, maximum, minimum): average\n",
            "Enter a list of numbers separated by spaces: 2 4\n",
            "The average of the numbers is: 3.0\n"
          ]
        }
      ]
    },
    {
      "cell_type": "markdown",
      "source": [
        "#4.2 Exercise on List Manipulation:"
      ],
      "metadata": {
        "id": "OU8-oApE0aqm"
      }
    },
    {
      "cell_type": "markdown",
      "source": [
        "1. Extract Every Other Element:\n",
        "Write a Python function that extracts every other element from a list, starting from the first element."
      ],
      "metadata": {
        "id": "POW2Hs7e0cSm"
      }
    },
    {
      "cell_type": "code",
      "source": [
        "def extract_every_other(lst):\n",
        "    \"\"\"\n",
        "    Extracts every other element from a list, starting from the first element.\n",
        "\n",
        "    Parameters:\n",
        "        lst (list): The input list.\n",
        "\n",
        "    Returns:\n",
        "        list: A new list containing every other element from the original list.\n",
        "    \"\"\"\n",
        "    return lst[::2]\n",
        "\n",
        "input_list = [1, 2, 3, 4, 5, 6]\n",
        "result = extract_every_other(input_list)\n",
        "print(result)"
      ],
      "metadata": {
        "colab": {
          "base_uri": "https://localhost:8080/"
        },
        "id": "_ifX_2mp0fUe",
        "outputId": "2e92447f-139c-4877-eda5-cd8496e8133a"
      },
      "execution_count": null,
      "outputs": [
        {
          "output_type": "stream",
          "name": "stdout",
          "text": [
            "[1, 3, 5]\n"
          ]
        }
      ]
    },
    {
      "cell_type": "markdown",
      "source": [
        "2. Slice a Sublist:\n",
        "Write a Python function that returns a sublist from a given list, starting from a specified index and\n",
        "ending at another specified index."
      ],
      "metadata": {
        "id": "pEqrrch21HF_"
      }
    },
    {
      "cell_type": "code",
      "source": [
        "def get_sublist(lst, start, end):\n",
        "    \"\"\"\n",
        "    Returns a sublist from a given list, starting from a specified index and ending at another specified index (inclusive).\n",
        "\n",
        "    Parameters:\n",
        "        lst (list): The input list.\n",
        "        start (int): The starting index (inclusive).\n",
        "        end (int): The ending index (inclusive).\n",
        "\n",
        "    Returns:\n",
        "        list: The sublist from start to end (inclusive).\n",
        "    \"\"\"\n",
        "    return lst[start:end + 1]\n",
        "\n",
        "input_list = [1, 2, 3, 4, 5, 6]\n",
        "start_index = 2\n",
        "end_index = 4\n",
        "result = get_sublist(input_list, start_index, end_index)\n",
        "print(result)"
      ],
      "metadata": {
        "colab": {
          "base_uri": "https://localhost:8080/"
        },
        "id": "u0Zan1Wc1LHX",
        "outputId": "44af9141-6c41-49df-d467-0bbdef4f428d"
      },
      "execution_count": null,
      "outputs": [
        {
          "output_type": "stream",
          "name": "stdout",
          "text": [
            "[3, 4, 5]\n"
          ]
        }
      ]
    },
    {
      "cell_type": "markdown",
      "source": [
        "3. Reverse a List Using Slicing:\n",
        "Write a Python function that reverses a list using slicing."
      ],
      "metadata": {
        "id": "WnHpVH911Xre"
      }
    },
    {
      "cell_type": "code",
      "source": [
        "def reverse_list(lst):\n",
        "    \"\"\"\n",
        "    Reverses a list using slicing.\n",
        "\n",
        "    Parameters:\n",
        "        lst (list): The input list.\n",
        "\n",
        "    Returns:\n",
        "        list: The reversed list.\n",
        "    \"\"\"\n",
        "    return lst[::-1]\n",
        "\n",
        "input_list = [1, 2, 3, 4, 5]\n",
        "result = reverse_list(input_list)\n",
        "print(result)\n"
      ],
      "metadata": {
        "colab": {
          "base_uri": "https://localhost:8080/"
        },
        "id": "jdOGZZ5A1YLm",
        "outputId": "59f6e41f-c7c3-468a-999d-250f0b1ac21c"
      },
      "execution_count": null,
      "outputs": [
        {
          "output_type": "stream",
          "name": "stdout",
          "text": [
            "[5, 4, 3, 2, 1]\n"
          ]
        }
      ]
    },
    {
      "cell_type": "markdown",
      "source": [
        "4. Remove the First and Last Elements:\n",
        "Write a Python function that removes the first and last elements of a list and returns the resulting\n",
        "sublist."
      ],
      "metadata": {
        "id": "V4vtjqR51ngN"
      }
    },
    {
      "cell_type": "code",
      "source": [
        "def remove_first_last(lst):\n",
        "    \"\"\"\n",
        "    Removes the first and last elements of a list and returns the resulting sublist.\n",
        "\n",
        "    Parameters:\n",
        "        lst (list): The input list.\n",
        "\n",
        "    Returns:\n",
        "        list: The list without the first and last elements.\n",
        "    \"\"\"\n",
        "    return lst[1:-1]\n",
        "\n",
        "input_list = [1, 2, 3, 4, 5]\n",
        "result = remove_first_last(input_list)\n",
        "print(result)\n"
      ],
      "metadata": {
        "colab": {
          "base_uri": "https://localhost:8080/"
        },
        "id": "ZmdcpfvN1qLo",
        "outputId": "1bdff1bd-39a0-43fc-f04c-ed8d37e596f0"
      },
      "execution_count": null,
      "outputs": [
        {
          "output_type": "stream",
          "name": "stdout",
          "text": [
            "[2, 3, 4]\n"
          ]
        }
      ]
    },
    {
      "cell_type": "markdown",
      "source": [
        "5. Get the First n Elements:\n",
        "Write a Python function that extracts the first n elements from a list."
      ],
      "metadata": {
        "id": "RsuwoNJT12Bv"
      }
    },
    {
      "cell_type": "code",
      "source": [
        "def get_first_n(lst, n):\n",
        "    \"\"\"\n",
        "    Extracts the first n elements from a list using slicing.\n",
        "\n",
        "    Parameters:\n",
        "        lst (list): The input list.\n",
        "        n (int): The number of elements to extract.\n",
        "\n",
        "    Returns:\n",
        "        list: A list containing the first n elements of the input list.\n",
        "    \"\"\"\n",
        "    return lst[:n]\n",
        "\n",
        "input_list = [1, 2, 3, 4, 5]\n",
        "n = 3\n",
        "result = get_first_n(input_list, n)\n",
        "print(result)\n"
      ],
      "metadata": {
        "colab": {
          "base_uri": "https://localhost:8080/"
        },
        "id": "E_N74aCi1383",
        "outputId": "2240b029-8571-4f40-b0a1-b8d7477733d6"
      },
      "execution_count": null,
      "outputs": [
        {
          "output_type": "stream",
          "name": "stdout",
          "text": [
            "[1, 2, 3]\n"
          ]
        }
      ]
    },
    {
      "cell_type": "markdown",
      "source": [
        "6. Extract Elements from the End:\n",
        "Write a Python function that extracts the last n elements of a list using slicing."
      ],
      "metadata": {
        "id": "05Vtv1Be2Gym"
      }
    },
    {
      "cell_type": "code",
      "source": [
        "def get_last_n(lst, n):\n",
        "    \"\"\"\n",
        "    Extracts the last n elements from a list using slicing.\n",
        "\n",
        "    Parameters:\n",
        "        lst (list): The input list.\n",
        "        n (int): The number of elements to extract from the end.\n",
        "\n",
        "    Returns:\n",
        "        list: A list containing the last n elements of the input list.\n",
        "    \"\"\"\n",
        "    return lst[-n:]\n",
        "input_list = [1, 2, 3, 4, 5]\n",
        "n = 2\n",
        "result = get_last_n(input_list, n)\n",
        "print(result)\n"
      ],
      "metadata": {
        "colab": {
          "base_uri": "https://localhost:8080/"
        },
        "id": "UyhfM6iQ2JI4",
        "outputId": "9a6d7acc-67db-43cd-e85d-85ee8cc8a8e1"
      },
      "execution_count": null,
      "outputs": [
        {
          "output_type": "stream",
          "name": "stdout",
          "text": [
            "[4, 5]\n"
          ]
        }
      ]
    },
    {
      "cell_type": "markdown",
      "source": [
        "7. Extract Elements in Reverse Order:\n",
        "Write a Python function that extracts a list of elements in reverse order starting from the second-to-last\n",
        "element and skipping one element in between."
      ],
      "metadata": {
        "id": "ZXNWXWxV2Wi2"
      }
    },
    {
      "cell_type": "code",
      "source": [
        "def reverse_skip(lst):\n",
        "    \"\"\"\n",
        "    Extracts a list of elements in reverse order starting from the second-to-last element\n",
        "    and skipping one element in between.\n",
        "\n",
        "    Parameters:\n",
        "        lst (list): The input list.\n",
        "\n",
        "    Returns:\n",
        "        list: A new list containing every second element starting from the second-to-last,\n",
        "              moving backward.\n",
        "    \"\"\"\n",
        "    return lst[-2::-2]\n",
        "\n",
        "input_list = [1, 2, 3, 4, 5, 6]\n",
        "result = reverse_skip(input_list)\n",
        "print(result)\n"
      ],
      "metadata": {
        "colab": {
          "base_uri": "https://localhost:8080/"
        },
        "id": "dnM2YIId2YHQ",
        "outputId": "6cf9197a-3d92-4ed1-e36d-f44370f4c30e"
      },
      "execution_count": null,
      "outputs": [
        {
          "output_type": "stream",
          "name": "stdout",
          "text": [
            "[5, 3, 1]\n"
          ]
        }
      ]
    },
    {
      "cell_type": "markdown",
      "source": [
        "#4.3 Exercise on Nested List:"
      ],
      "metadata": {
        "id": "zE9M3HKA2f-u"
      }
    },
    {
      "cell_type": "markdown",
      "source": [
        "1. Flatten a Nested List:\n",
        "Write a Python function that takes a nested list and flattens it into a single list, where all the elements\n",
        "are in a single dimension."
      ],
      "metadata": {
        "id": "ENvTjO752iA3"
      }
    },
    {
      "cell_type": "code",
      "source": [
        "def flatten(lst):\n",
        "    \"\"\"\n",
        "    Flattens a nested list into a single list, where all the elements are in a single dimension.\n",
        "\n",
        "    Parameters:\n",
        "        lst (list): The input nested list.\n",
        "\n",
        "    Returns:\n",
        "        list: A flattened version of the list.\n",
        "    \"\"\"\n",
        "    flattened_list = []\n",
        "    for sublist in lst:\n",
        "        if isinstance(sublist, list):\n",
        "            flattened_list.extend(flatten(sublist))\n",
        "        else:\n",
        "            flattened_list.append(sublist)\n",
        "    return flattened_list\n",
        "\n",
        "nested_list = [[1, 2], [3, 4], [5]]\n",
        "result = flatten(nested_list)\n",
        "print(result)\n"
      ],
      "metadata": {
        "colab": {
          "base_uri": "https://localhost:8080/"
        },
        "id": "7AAOr4CL2j3f",
        "outputId": "85f12e80-accf-48ff-cc06-b09d28b3c5e4"
      },
      "execution_count": null,
      "outputs": [
        {
          "output_type": "stream",
          "name": "stdout",
          "text": [
            "[1, 2, 3, 4, 5]\n"
          ]
        }
      ]
    },
    {
      "cell_type": "markdown",
      "source": [
        "2. Accessing Nested List Elements:\n",
        "Write a Python function that extracts a specific element from a nested list given its indices."
      ],
      "metadata": {
        "id": "cdSQJ12E2vXO"
      }
    },
    {
      "cell_type": "code",
      "source": [
        "def access_nested_element(lst, indices):\n",
        "    \"\"\"\n",
        "    Extracts an element from a nested list using a list of indices.\n",
        "\n",
        "    Parameters:\n",
        "        lst (list): The nested list.\n",
        "        indices (list): A list of integers representing the indices to access the element.\n",
        "\n",
        "    Returns:\n",
        "        The element at the specified position in the nested list.\n",
        "    \"\"\"\n",
        "    for index in indices:\n",
        "        lst = lst[index]\n",
        "    return lst\n",
        "\n",
        "nested_list = [[1, 2, 3], [4, 5, 6], [7, 8, 9]]\n",
        "indices = [1, 2]\n",
        "result = access_nested_element(nested_list, indices)\n",
        "print(result)\n"
      ],
      "metadata": {
        "colab": {
          "base_uri": "https://localhost:8080/"
        },
        "id": "1gGZKcaD2vFX",
        "outputId": "fcfb679d-5cc7-4d19-f76b-cd935a10d87b"
      },
      "execution_count": null,
      "outputs": [
        {
          "output_type": "stream",
          "name": "stdout",
          "text": [
            "6\n"
          ]
        }
      ]
    },
    {
      "cell_type": "markdown",
      "source": [
        "3. Sum of All Elements in a Nested List:\n",
        "Write a Python function that calculates the sum of all the numbers in a nested list (regardless of depth)."
      ],
      "metadata": {
        "id": "RXokPuet25An"
      }
    },
    {
      "cell_type": "code",
      "source": [
        "def sum_nested(lst):\n",
        "    \"\"\"\n",
        "    Calculates the sum of all the numbers in a nested list (regardless of depth).\n",
        "\n",
        "    Parameters:\n",
        "        lst (list): The nested list.\n",
        "\n",
        "    Returns:\n",
        "        int/float: The sum of all the elements in the nested list.\n",
        "    \"\"\"\n",
        "    total = 0\n",
        "    for element in lst:\n",
        "        if isinstance(element, list):\n",
        "            total += sum_nested(element)\n",
        "        else:\n",
        "            total += element\n",
        "    return total\n",
        "\n",
        "nested_list = [[1, 2], [3, [4, 5]], 6]\n",
        "result = sum_nested(nested_list)\n",
        "print(result)\n"
      ],
      "metadata": {
        "colab": {
          "base_uri": "https://localhost:8080/"
        },
        "id": "nk-STvEE27Wf",
        "outputId": "3a8fdbb3-ab2a-40c0-d640-a41c7878ffc0"
      },
      "execution_count": null,
      "outputs": [
        {
          "output_type": "stream",
          "name": "stdout",
          "text": [
            "21\n"
          ]
        }
      ]
    },
    {
      "cell_type": "markdown",
      "source": [
        "4. Remove Specific Element from a Nested List:\n",
        "Write a Python function that removes all occurrences of a specific element from a nested list."
      ],
      "metadata": {
        "id": "Gmt-AZGE3BmP"
      }
    },
    {
      "cell_type": "code",
      "source": [
        "def remove_element(lst, elem):\n",
        "    \"\"\"\n",
        "    Removes all occurrences of a specific element from a nested list.\n",
        "\n",
        "    Parameters:\n",
        "        lst (list): The input nested list.\n",
        "        elem: The element to remove.\n",
        "\n",
        "    Returns:\n",
        "        list: The modified list with all occurrences of `elem` removed.\n",
        "    \"\"\"\n",
        "    return [[item for item in sublist if item != elem] for sublist in lst]\n",
        "\n",
        "input_list = [[1, 2], [3, 2], [4, 5]]\n",
        "element_to_remove = 2\n",
        "result = remove_element(input_list, element_to_remove)\n",
        "print(result)"
      ],
      "metadata": {
        "colab": {
          "base_uri": "https://localhost:8080/"
        },
        "id": "-zjJWlMM3De3",
        "outputId": "b903b697-22c0-4ba9-d0ad-22744d696708"
      },
      "execution_count": null,
      "outputs": [
        {
          "output_type": "stream",
          "name": "stdout",
          "text": [
            "[[1], [3], [4, 5]]\n"
          ]
        }
      ]
    },
    {
      "cell_type": "markdown",
      "source": [
        "5. Find the Maximum Element in a Nested List:\n",
        "Write a Python function that finds the maximum element in a nested list (regardless of depth)."
      ],
      "metadata": {
        "id": "yK5F0Dso5Xhp"
      }
    },
    {
      "cell_type": "code",
      "source": [
        "def find_max(lst):\n",
        "    \"\"\"\n",
        "    Finds the maximum element in a nested list, regardless of depth.\n",
        "\n",
        "    Parameters:\n",
        "        lst (list): The input nested list.\n",
        "\n",
        "    Returns:\n",
        "        int or float: The maximum element in the nested list.\n",
        "    \"\"\"\n",
        "    max_value = float('-inf')\n",
        "\n",
        "    def traverse(nested):\n",
        "        nonlocal max_value\n",
        "        for item in nested:\n",
        "            if isinstance(item, list):\n",
        "                traverse(item)\n",
        "            else:\n",
        "                if item > max_value:\n",
        "                    max_value = item\n",
        "    traverse(lst)\n",
        "    return max_value\n",
        "\n",
        "input_list = [[1, 2], [3, [4, 5]], 6]\n",
        "result = find_max(input_list)\n",
        "print(result)"
      ],
      "metadata": {
        "colab": {
          "base_uri": "https://localhost:8080/"
        },
        "id": "rfixfgZd5YTg",
        "outputId": "9b26cce7-b18b-4d87-8647-298997318510"
      },
      "execution_count": null,
      "outputs": [
        {
          "output_type": "stream",
          "name": "stdout",
          "text": [
            "6\n"
          ]
        }
      ]
    },
    {
      "cell_type": "markdown",
      "source": [
        "6. Count Occurrences of an Element in a Nested List:\n",
        "Write a Python function that counts how many times a specific element appears in a nested list."
      ],
      "metadata": {
        "id": "92nc3kSf5q8N"
      }
    },
    {
      "cell_type": "code",
      "source": [
        "def count_occurrences(lst, elem):\n",
        "    \"\"\"\n",
        "    Counts how many times a specific element appears in a nested list.\n",
        "\n",
        "    Parameters:\n",
        "        lst (list): The input nested list.\n",
        "        elem (int or any): The element whose occurrences are to be counted.\n",
        "\n",
        "    Returns:\n",
        "        int: The number of times elem appears in the nested list.\n",
        "    \"\"\"\n",
        "    count = 0\n",
        "\n",
        "    def traverse(nested):\n",
        "        nonlocal count\n",
        "        for item in nested:\n",
        "            if isinstance(item, list):\n",
        "                traverse(item)\n",
        "            else:\n",
        "                if item == elem:\n",
        "                    count += 1\n",
        "\n",
        "    traverse(lst)\n",
        "    return count\n",
        "\n",
        "input_list = [[1, 2], [2, 3], [2, 4]]\n",
        "element_to_count = 2\n",
        "result = count_occurrences(input_list, element_to_count)\n",
        "print(result)\n"
      ],
      "metadata": {
        "colab": {
          "base_uri": "https://localhost:8080/"
        },
        "id": "_VcTFbpy5sOO",
        "outputId": "97c92d93-6ada-4016-aeac-9ce73ebbc1b8"
      },
      "execution_count": null,
      "outputs": [
        {
          "output_type": "stream",
          "name": "stdout",
          "text": [
            "3\n"
          ]
        }
      ]
    },
    {
      "cell_type": "markdown",
      "source": [
        "7. Flatten a List of Lists of Lists:\n",
        "Write a Python function that flattens a list of lists of lists into a single list, regardless of the depth.\n"
      ],
      "metadata": {
        "id": "VzuZglPg5-Xw"
      }
    },
    {
      "cell_type": "code",
      "source": [
        "def deep_flatten(lst):\n",
        "    \"\"\"\n",
        "    Flattens a deeply nested list into a single list.\n",
        "\n",
        "    Parameters:\n",
        "        lst (list): The input deeply nested list.\n",
        "\n",
        "    Returns:\n",
        "        list: The flattened list.\n",
        "    \"\"\"\n",
        "    flattened = []\n",
        "\n",
        "    for item in lst:\n",
        "        if isinstance(item, list):\n",
        "            flattened.extend(deep_flatten(item))\n",
        "        else:\n",
        "            flattened.append(item)\n",
        "\n",
        "    return flattened\n",
        "\n",
        "input_list = [[[1, 2], [3, 4]], [[5, 6], [7, 8]]]\n",
        "result = deep_flatten(input_list)\n",
        "print(result)\n"
      ],
      "metadata": {
        "colab": {
          "base_uri": "https://localhost:8080/"
        },
        "id": "81tbcj3G6GQu",
        "outputId": "b3f1eedf-457f-428f-aa55-326ce6e33722"
      },
      "execution_count": null,
      "outputs": [
        {
          "output_type": "stream",
          "name": "stdout",
          "text": [
            "[1, 2, 3, 4, 5, 6, 7, 8]\n"
          ]
        }
      ]
    },
    {
      "cell_type": "markdown",
      "source": [
        "8. Nested List Average:\n",
        "Write a Python function that calculates the average of all elements in a nested list.\n"
      ],
      "metadata": {
        "id": "DTMLzgFo6Gyo"
      }
    },
    {
      "cell_type": "code",
      "source": [
        "def average_nested(lst):\n",
        "    \"\"\"\n",
        "    Calculates the average of all elements in a nested list.\n",
        "\n",
        "    Parameters:\n",
        "        lst (list): The input nested list.\n",
        "\n",
        "    Returns:\n",
        "        float: The average of all the elements in the nested list.\n",
        "    \"\"\"\n",
        "    total_sum = 0\n",
        "    total_count = 0\n",
        "    def traverse(nested):\n",
        "        nonlocal total_sum, total_count\n",
        "        for item in nested:\n",
        "            if isinstance(item, list):\n",
        "                traverse(item)\n",
        "            else:\n",
        "                total_sum += item\n",
        "                total_count += 1\n",
        "    traverse(lst)\n",
        "    if total_count == 0:\n",
        "        return 0\n",
        "    return total_sum / total_count\n",
        "\n",
        "input_list = [[1, 2], [3, 4], [5, 6]]\n",
        "result = average_nested(input_list)\n",
        "print(result)\n"
      ],
      "metadata": {
        "colab": {
          "base_uri": "https://localhost:8080/"
        },
        "id": "tuzRMhcC6Rie",
        "outputId": "49e86544-e520-4506-ffc3-bdce6d22ba1b"
      },
      "execution_count": null,
      "outputs": [
        {
          "output_type": "stream",
          "name": "stdout",
          "text": [
            "3.5\n"
          ]
        }
      ]
    },
    {
      "cell_type": "markdown",
      "source": [
        "#10.1 Basic Vector and Matrix Operation with Numpy."
      ],
      "metadata": {
        "id": "LPLOK9V57XJB"
      }
    },
    {
      "cell_type": "markdown",
      "source": [
        "Problem - 1: Array Creation:"
      ],
      "metadata": {
        "id": "q6m98Kyd7d0w"
      }
    },
    {
      "cell_type": "code",
      "source": [
        "import numpy as np\n",
        "\n",
        "empty_array = np.empty((2, 2))\n",
        "print(\"Empty array (2x2):\")\n",
        "print(empty_array)\n",
        "\n",
        "ones_array = np.ones((4, 2))\n",
        "print(\"\\nAll ones array (4x2):\")\n",
        "print(ones_array)\n",
        "filled_array = np.full((3, 3), 7, dtype=int)\n",
        "print(\"\\nArray filled with 7 (3x3):\")\n",
        "print(filled_array)\n",
        "existing_array = np.array([[1, 2], [3, 4]])\n",
        "zeros_like_array = np.zeros_like(existing_array)\n",
        "print(\"\\nArray of zeros with same shape as existing array:\")\n",
        "print(zeros_like_array)\n",
        "ones_like_array = np.ones_like(existing_array)\n",
        "print(\"\\nArray of ones with same shape as existing array:\")\n",
        "print(ones_like_array)\n",
        "new_list = [1, 2, 3, 4]\n",
        "numpy_array = np.array(new_list)\n",
        "print(\"\\nConverted NumPy array from list:\")\n",
        "print(numpy_array)\n"
      ],
      "metadata": {
        "colab": {
          "base_uri": "https://localhost:8080/"
        },
        "id": "9KaTEwnx7Z6n",
        "outputId": "9e59df64-07ad-4edd-ab19-5e9b5308193b"
      },
      "execution_count": null,
      "outputs": [
        {
          "output_type": "stream",
          "name": "stdout",
          "text": [
            "Empty array (2x2):\n",
            "[[3.07935426e-316 0.00000000e+000]\n",
            " [1.10684531e-047 4.17390574e-057]]\n",
            "\n",
            "All ones array (4x2):\n",
            "[[1. 1.]\n",
            " [1. 1.]\n",
            " [1. 1.]\n",
            " [1. 1.]]\n",
            "\n",
            "Array filled with 7 (3x3):\n",
            "[[7 7 7]\n",
            " [7 7 7]\n",
            " [7 7 7]]\n",
            "\n",
            "Array of zeros with same shape as existing array:\n",
            "[[0 0]\n",
            " [0 0]]\n",
            "\n",
            "Array of ones with same shape as existing array:\n",
            "[[1 1]\n",
            " [1 1]]\n",
            "\n",
            "Converted NumPy array from list:\n",
            "[1 2 3 4]\n"
          ]
        }
      ]
    },
    {
      "cell_type": "markdown",
      "source": [
        "Problem - 2: Array Manipulation: Numerical Ranges and Array indexing:"
      ],
      "metadata": {
        "id": "WXIEgh7l7oE2"
      }
    },
    {
      "cell_type": "code",
      "source": [
        "import numpy as np\n",
        "array_10_to_49 = np.arange(10, 50)\n",
        "print(\"Array from 10 to 49:\")\n",
        "print(array_10_to_49)\n",
        "matrix_3x3 = np.arange(9).reshape(3, 3)\n",
        "print(\"\\n3x3 Matrix with values from 0 to 8:\")\n",
        "print(matrix_3x3)\n",
        "identity_matrix = np.eye(3)\n",
        "print(\"\\n3x3 Identity Matrix:\")\n",
        "print(identity_matrix)\n",
        "random_array = np.random.random(30)\n",
        "mean_value = random_array.mean()\n",
        "print(\"\\nRandom Array of size 30:\")\n",
        "print(random_array)\n",
        "print(f\"Mean of the array: {mean_value}\")\n",
        "random_10x10 = np.random.random((10, 10))\n",
        "min_value = random_10x10.min()\n",
        "max_value = random_10x10.max()\n",
        "print(\"\\n10x10 Random Array:\")\n",
        "print(random_10x10)\n",
        "print(f\"Minimum value: {min_value}, Maximum value: {max_value}\")\n",
        "zero_array = np.zeros(10)\n",
        "zero_array[4] = 1\n",
        "print(\"\\nZero Array with 5th element replaced with 1:\")\n",
        "print(zero_array)\n",
        "arr = np.array([1, 2, 0, 0, 4, 0]) #reverse arrray\n",
        "reversed_arr = arr[::-1]\n",
        "print(\"\\nReversed Array:\")\n",
        "print(reversed_arr)\n",
        "border_array = np.ones((5, 5))\n",
        "border_array[1:-1, 1:-1] = 0\n",
        "print(\"\\n2D Array with 1 on the border and 0 inside:\")\n",
        "print(border_array)\n",
        "\n",
        "checkerboard_pattern = np.zeros((8, 8))\n",
        "checkerboard_pattern[1::2, ::2] = 1\n",
        "checkerboard_pattern[::2, 1::2] = 1\n",
        "print(\"\\n8x8 Checkerboard Pattern:\")\n",
        "print(checkerboard_pattern)\n"
      ],
      "metadata": {
        "colab": {
          "base_uri": "https://localhost:8080/"
        },
        "id": "cVInxkoH72Ln",
        "outputId": "957a54a5-425c-49bb-b7ea-cdee99ace051"
      },
      "execution_count": null,
      "outputs": [
        {
          "output_type": "stream",
          "name": "stdout",
          "text": [
            "Array from 10 to 49:\n",
            "[10 11 12 13 14 15 16 17 18 19 20 21 22 23 24 25 26 27 28 29 30 31 32 33\n",
            " 34 35 36 37 38 39 40 41 42 43 44 45 46 47 48 49]\n",
            "\n",
            "3x3 Matrix with values from 0 to 8:\n",
            "[[0 1 2]\n",
            " [3 4 5]\n",
            " [6 7 8]]\n",
            "\n",
            "3x3 Identity Matrix:\n",
            "[[1. 0. 0.]\n",
            " [0. 1. 0.]\n",
            " [0. 0. 1.]]\n",
            "\n",
            "Random Array of size 30:\n",
            "[0.80784923 0.26094635 0.23498278 0.55836402 0.85823227 0.46950238\n",
            " 0.10736444 0.44332534 0.0054893  0.4295211  0.32399907 0.92637415\n",
            " 0.99850922 0.89413244 0.46886027 0.58850607 0.99110022 0.02227755\n",
            " 0.82187737 0.53353844 0.0651494  0.24894972 0.65323185 0.10819956\n",
            " 0.38196909 0.26647205 0.57025822 0.95822935 0.44742337 0.67913974]\n",
            "Mean of the array: 0.504125813575572\n",
            "\n",
            "10x10 Random Array:\n",
            "[[0.46402078 0.85211755 0.47141345 0.22999342 0.38775035 0.38188267\n",
            "  0.05610284 0.47400458 0.50552935 0.54968028]\n",
            " [0.77147534 0.14440919 0.55546246 0.64394016 0.138353   0.37757786\n",
            "  0.94526517 0.8647926  0.98909065 0.73684818]\n",
            " [0.00625919 0.85596575 0.96946964 0.00119585 0.58615852 0.87370898\n",
            "  0.40088001 0.08314384 0.44558891 0.22354166]\n",
            " [0.19472026 0.66430327 0.62734398 0.81788574 0.55112944 0.14811735\n",
            "  0.70813271 0.05629173 0.84918187 0.20664021]\n",
            " [0.1234577  0.24852668 0.25307462 0.20559403 0.1346686  0.14719681\n",
            "  0.96276358 0.85168043 0.12826832 0.17651302]\n",
            " [0.97777839 0.98410371 0.34135591 0.8497036  0.53444306 0.35526471\n",
            "  0.51718844 0.85151251 0.16492198 0.76608048]\n",
            " [0.28373073 0.75278361 0.66386269 0.54962215 0.66501854 0.62632905\n",
            "  0.1747403  0.49975331 0.06418591 0.02177967]\n",
            " [0.80555613 0.70464519 0.00344364 0.51380244 0.44993301 0.80361051\n",
            "  0.24422685 0.89600227 0.01678153 0.14921723]\n",
            " [0.02257381 0.07957435 0.49090317 0.42231493 0.75343611 0.64787651\n",
            "  0.6063995  0.42102722 0.90437189 0.22435814]\n",
            " [0.23628571 0.68982379 0.57357639 0.37645046 0.53799751 0.60600374\n",
            "  0.33967339 0.50246361 0.26797321 0.71135283]]\n",
            "Minimum value: 0.0011958520378970716, Maximum value: 0.9890906526874348\n",
            "\n",
            "Zero Array with 5th element replaced with 1:\n",
            "[0. 0. 0. 0. 1. 0. 0. 0. 0. 0.]\n",
            "\n",
            "Reversed Array:\n",
            "[0 4 0 0 2 1]\n",
            "\n",
            "2D Array with 1 on the border and 0 inside:\n",
            "[[1. 1. 1. 1. 1.]\n",
            " [1. 0. 0. 0. 1.]\n",
            " [1. 0. 0. 0. 1.]\n",
            " [1. 0. 0. 0. 1.]\n",
            " [1. 1. 1. 1. 1.]]\n",
            "\n",
            "8x8 Checkerboard Pattern:\n",
            "[[0. 1. 0. 1. 0. 1. 0. 1.]\n",
            " [1. 0. 1. 0. 1. 0. 1. 0.]\n",
            " [0. 1. 0. 1. 0. 1. 0. 1.]\n",
            " [1. 0. 1. 0. 1. 0. 1. 0.]\n",
            " [0. 1. 0. 1. 0. 1. 0. 1.]\n",
            " [1. 0. 1. 0. 1. 0. 1. 0.]\n",
            " [0. 1. 0. 1. 0. 1. 0. 1.]\n",
            " [1. 0. 1. 0. 1. 0. 1. 0.]]\n"
          ]
        }
      ]
    },
    {
      "cell_type": "markdown",
      "source": [
        "Problem - 3: Array Operations:"
      ],
      "metadata": {
        "id": "_M-3rzy672jW"
      }
    },
    {
      "cell_type": "code",
      "source": [
        "import numpy as np\n",
        "x = np.array([[1, 2], [3, 5]])\n",
        "y = np.array([[5, 6], [7, 8]])\n",
        "v = np.array([9, 10])\n",
        "w = np.array([11, 12])\n",
        "\n",
        "add_result = x + y#for two array\n",
        "print(\"1. Addition of x and y:\")\n",
        "print(add_result)\n",
        "\n",
        "subtract_result = x - y#subtract\n",
        "print(\"\\n2. Subtraction of x and y:\")\n",
        "print(subtract_result)\n",
        "\n",
        "multiply_x = x * 2 #multiply\n",
        "multiply_y = y * 3\n",
        "print(\"\\n3. Multiplication of x by 2 and y by 3:\")\n",
        "print(multiply_x)\n",
        "print(multiply_y)\n",
        "\n",
        "square_x = np.square(x)#square\n",
        "square_y = np.square(y)\n",
        "print(\"\\n4. Square of each element in x and y:\")\n",
        "print(square_x)\n",
        "print(square_y)\n",
        "\n",
        "dot_vw = np.dot(v, w)#dot\n",
        "dot_xv = np.dot(x, v)\n",
        "dot_xy = np.dot(x, y)\n",
        "print(\"\\n5. Dot Products:\")\n",
        "print(\"v . w =\", dot_vw)\n",
        "print(\"x . v =\", dot_xv)\n",
        "print(\"x . y =\", dot_xy)\n",
        "\n",
        "concat_xy_row = np.concatenate((x, y), axis=0)\n",
        "concat_vw_col = np.concatenate((v.reshape(-1, 1), w.reshape(-1, 1)), axis=1)\n",
        "print(\"\\n6. Concatenate x and y along rows and v and w along columns:\")\n",
        "print(concat_xy_row)\n",
        "print(concat_vw_col)\n",
        "\n",
        "try:\n",
        "    concat_xv = np.concatenate((x, v), axis=0)\n",
        "    print(\"\\n7. Concatenate x and v:\")\n",
        "    print(concat_xv)\n",
        "except ValueError as e:\n",
        "    print(\"\\n7. Concatenation of x and v failed with error:\", e)\n"
      ],
      "metadata": {
        "colab": {
          "base_uri": "https://localhost:8080/"
        },
        "id": "vys-TXU07494",
        "outputId": "68d00b97-618b-47f0-ee0e-4614e4566d97"
      },
      "execution_count": null,
      "outputs": [
        {
          "output_type": "stream",
          "name": "stdout",
          "text": [
            "1. Addition of x and y:\n",
            "[[ 6  8]\n",
            " [10 13]]\n",
            "\n",
            "2. Subtraction of x and y:\n",
            "[[-4 -4]\n",
            " [-4 -3]]\n",
            "\n",
            "3. Multiplication of x by 2 and y by 3:\n",
            "[[ 2  4]\n",
            " [ 6 10]]\n",
            "[[15 18]\n",
            " [21 24]]\n",
            "\n",
            "4. Square of each element in x and y:\n",
            "[[ 1  4]\n",
            " [ 9 25]]\n",
            "[[25 36]\n",
            " [49 64]]\n",
            "\n",
            "5. Dot Products:\n",
            "v . w = 219\n",
            "x . v = [29 77]\n",
            "x . y = [[19 22]\n",
            " [50 58]]\n",
            "\n",
            "6. Concatenate x and y along rows and v and w along columns:\n",
            "[[1 2]\n",
            " [3 5]\n",
            " [5 6]\n",
            " [7 8]]\n",
            "[[ 9 11]\n",
            " [10 12]]\n",
            "\n",
            "7. Concatenation of x and v failed with error: all the input arrays must have same number of dimensions, but the array at index 0 has 2 dimension(s) and the array at index 1 has 1 dimension(s)\n"
          ]
        }
      ]
    },
    {
      "cell_type": "markdown",
      "source": [
        "Problem - 4: Matrix Operations:"
      ],
      "metadata": {
        "id": "tBmUJMmM8e9Y"
      }
    },
    {
      "cell_type": "code",
      "source": [
        "import numpy as np\n",
        "A = np.array([[3, 4], [7, 8]])\n",
        "B = np.array([[5, 3], [2, 1]])\n",
        "I = np.eye(2)\n",
        "\n",
        "A_inv = np.linalg.inv(A)\n",
        "result_1 = np.dot(A, A_inv)\n",
        "print(\"1. A * A^(-1):\")\n",
        "print(result_1)\n",
        "AB = np.dot(A, B)\n",
        "BA = np.dot(B, A)\n",
        "print(\"\\n2. AB != BA:\")\n",
        "print(\"AB =\\n\", AB)\n",
        "print(\"BA =\\n\", BA)\n",
        "AB_T = np.transpose(AB)\n",
        "B_T_A_T = np.dot(np.transpose(B), np.transpose(A))\n",
        "print(\"\\n3. (AB)^T = B^T * A^T:\")\n",
        "print(\"AB^T =\\n\", AB_T)\n",
        "print(\"B^T * A^T =\\n\", B_T_A_T)\n",
        "\n",
        "A_sys = np.array([[2, -3, 1], [1, -1, 2], [3, 1, -1]])\n",
        "B_sys = np.array([-1, -3, 9])\n",
        "\n",
        "A_inv_sys = np.linalg.inv(A_sys)\n",
        "X = np.dot(A_inv_sys, B_sys)\n",
        "\n",
        "print(\"\\n4. Solution to the system of linear equations (using Inverse method):\")\n",
        "print(f\"x = {X[0]}, y = {X[1]}, z = {X[2]}\")\n"
      ],
      "metadata": {
        "colab": {
          "base_uri": "https://localhost:8080/"
        },
        "id": "k90vmo5z8hyt",
        "outputId": "fbd3123e-08c9-43b0-eed7-6a88f2c41925"
      },
      "execution_count": null,
      "outputs": [
        {
          "output_type": "stream",
          "name": "stdout",
          "text": [
            "1. A * A^(-1):\n",
            "[[1.00000000e+00 0.00000000e+00]\n",
            " [1.77635684e-15 1.00000000e+00]]\n",
            "\n",
            "2. AB != BA:\n",
            "AB =\n",
            " [[23 13]\n",
            " [51 29]]\n",
            "BA =\n",
            " [[36 44]\n",
            " [13 16]]\n",
            "\n",
            "3. (AB)^T = B^T * A^T:\n",
            "AB^T =\n",
            " [[23 51]\n",
            " [13 29]]\n",
            "B^T * A^T =\n",
            " [[23 51]\n",
            " [13 29]]\n",
            "\n",
            "4. Solution to the system of linear equations (using Inverse method):\n",
            "x = 2.0, y = 1.0, z = -2.0\n"
          ]
        }
      ]
    },
    {
      "cell_type": "markdown",
      "source": [
        "#10.2 Experiment: How Fast is Numpy?"
      ],
      "metadata": {
        "id": "AL_l3Qh_9cz_"
      }
    },
    {
      "cell_type": "markdown",
      "source": [
        "1. Element-wise Addition:"
      ],
      "metadata": {
        "id": "yrI-9mcu9XHo"
      }
    },
    {
      "cell_type": "markdown",
      "source": [
        "• Using Python Lists, perform element-wise addition of two lists of size 1, 000, 000. Measure\n",
        "and Print the time taken for this operation."
      ],
      "metadata": {
        "id": "SHhh3fUN9z1R"
      }
    },
    {
      "cell_type": "code",
      "source": [
        "import time\n",
        "\n",
        "list1 = [i for i in range(1, 1000001)]\n",
        "list2 = [i for i in range(1000001, 2000001)]\n",
        "start_time = time.time()\n",
        "result = [list1[i] + list2[i] for i in range(1000000)]\n",
        "end_time = time.time()\n",
        "\n",
        "print(f\"Time taken for element-wise addition: {end_time - start_time} seconds\")\n"
      ],
      "metadata": {
        "colab": {
          "base_uri": "https://localhost:8080/"
        },
        "id": "Obhbk8xA9baf",
        "outputId": "d805ac28-0c20-49c7-86d1-8a736b10986f"
      },
      "execution_count": null,
      "outputs": [
        {
          "output_type": "stream",
          "name": "stdout",
          "text": [
            "Time taken for element-wise addition: 0.09502577781677246 seconds\n"
          ]
        }
      ]
    },
    {
      "cell_type": "markdown",
      "source": [
        "Using Numpy Arrays, Repeat the calculation and measure and print the time taken for\n",
        "this operation."
      ],
      "metadata": {
        "id": "9oKKzfgG900J"
      }
    },
    {
      "cell_type": "code",
      "source": [
        "import numpy as np\n",
        "import time\n",
        "array1 = np.arange(1, 1000001)\n",
        "array2 = np.arange(1000001, 2000001)\n",
        "start_time = time.time()\n",
        "\n",
        "result = array1 + array2\n",
        "end_time = time.time()\n",
        "print(f\"Time taken for element-wise addition with NumPy: {end_time - start_time} seconds\")\n"
      ],
      "metadata": {
        "colab": {
          "base_uri": "https://localhost:8080/"
        },
        "id": "TjiHSNBa92jZ",
        "outputId": "828ac8b8-e66e-4893-9c3a-9f4398b19f6c"
      },
      "execution_count": null,
      "outputs": [
        {
          "output_type": "stream",
          "name": "stdout",
          "text": [
            "Time taken for element-wise addition with NumPy: 0.009044885635375977 seconds\n"
          ]
        }
      ]
    },
    {
      "cell_type": "markdown",
      "source": [
        "2. Element-wise Multiplication"
      ],
      "metadata": {
        "id": "oODtvJP0-BsO"
      }
    },
    {
      "cell_type": "markdown",
      "source": [
        "• Using Python Lists, perform element-wise multiplication of two lists of size 1, 000, 000.\n",
        "Measure and Print the time taken for this operation."
      ],
      "metadata": {
        "id": "JX1Uc-7t-DM-"
      }
    },
    {
      "cell_type": "code",
      "source": [
        "import time\n",
        "list1 = list(range(1, 1000001))\n",
        "list2 = list(range(1000001, 2000001))\n",
        "start_time = time.time()\n",
        "result = [list1[i] * list2[i] for i in range(len(list1))]\n",
        "end_time = time.time()\n",
        "print(f\"Time taken for element-wise multiplication with Python lists: {end_time - start_time} seconds\")\n"
      ],
      "metadata": {
        "colab": {
          "base_uri": "https://localhost:8080/"
        },
        "id": "K_cHOGmW-GWW",
        "outputId": "cb86243a-f626-4d30-e3c0-835c9c5c1b97"
      },
      "execution_count": null,
      "outputs": [
        {
          "output_type": "stream",
          "name": "stdout",
          "text": [
            "Time taken for element-wise multiplication with Python lists: 0.14253616333007812 seconds\n"
          ]
        }
      ]
    },
    {
      "cell_type": "markdown",
      "source": [
        "• Using Numpy Arrays, Repeat the calculation and measure and print the time taken for\n",
        "this operation."
      ],
      "metadata": {
        "id": "VqMT98Oq-GsO"
      }
    },
    {
      "cell_type": "code",
      "source": [
        "import numpy as np\n",
        "import time\n",
        "array1 = np.arange(1, 1000001)\n",
        "array2 = np.arange(1000001, 2000001)\n",
        "\n",
        "start_time = time.time()\n",
        "result = array1 * array2\n",
        "end_time = time.time()\n",
        "\n",
        "print(f\"Time taken for element-wise multiplication with NumPy arrays: {end_time - start_time} seconds\")\n"
      ],
      "metadata": {
        "colab": {
          "base_uri": "https://localhost:8080/"
        },
        "id": "clRRuIQ6-IQo",
        "outputId": "5179ec65-69a5-4c8c-de1b-bbb2344a13f7"
      },
      "execution_count": null,
      "outputs": [
        {
          "output_type": "stream",
          "name": "stdout",
          "text": [
            "Time taken for element-wise multiplication with NumPy arrays: 0.00481104850769043 seconds\n"
          ]
        }
      ]
    },
    {
      "cell_type": "markdown",
      "source": [
        "3. Dot Product"
      ],
      "metadata": {
        "id": "k4rVTJqY-a9P"
      }
    },
    {
      "cell_type": "markdown",
      "source": [
        "• Using Python Lists, compute the dot product of two lists of size 1, 000, 000. Measure and\n",
        "Print the time taken for this operation."
      ],
      "metadata": {
        "id": "4Co5gCPP-clY"
      }
    },
    {
      "cell_type": "code",
      "source": [
        "import time\n",
        "list1 = [i for i in range(1, 1000001)]\n",
        "list2 = [i for i in range(1000001, 2000001)]\n",
        "start_time = time.time()\n",
        "\n",
        "dot_product = sum(a * b for a, b in zip(list1, list2))\n",
        "end_time = time.time()\n",
        "\n",
        "print(f\"Time taken for dot product using Python lists: {end_time - start_time} seconds\")\n"
      ],
      "metadata": {
        "colab": {
          "base_uri": "https://localhost:8080/"
        },
        "id": "LxIhSNRP-hGh",
        "outputId": "67dfadeb-da0d-402c-e92f-633146bd1e44"
      },
      "execution_count": null,
      "outputs": [
        {
          "output_type": "stream",
          "name": "stdout",
          "text": [
            "Time taken for dot product using Python lists: 0.17149996757507324 seconds\n"
          ]
        }
      ]
    },
    {
      "cell_type": "markdown",
      "source": [
        "• Using Numpy Arrays, Repeat the calculation and measure and print the time taken for\n",
        "this operation."
      ],
      "metadata": {
        "id": "KPTW5GRB-hdI"
      }
    },
    {
      "cell_type": "code",
      "source": [
        "import numpy as np\n",
        "import time\n",
        "array1 = np.arange(1, 1000001)\n",
        "array2 = np.arange(1000001, 2000001)\n",
        "start_time = time.time()\n",
        "dot_product = np.dot(array1, array2)\n",
        "end_time = time.time()\n",
        "print(f\"Time taken for dot product using NumPy arrays: {end_time - start_time} seconds\")\n"
      ],
      "metadata": {
        "colab": {
          "base_uri": "https://localhost:8080/"
        },
        "id": "KG4NECpL-jeX",
        "outputId": "4dc8c4b7-6433-445a-9aff-f2b2c3c80a85"
      },
      "execution_count": null,
      "outputs": [
        {
          "output_type": "stream",
          "name": "stdout",
          "text": [
            "Time taken for dot product using NumPy arrays: 0.0028252601623535156 seconds\n"
          ]
        }
      ]
    },
    {
      "cell_type": "markdown",
      "source": [
        "4. Matrix Multiplication"
      ],
      "metadata": {
        "id": "Dy9ALYwj-1SG"
      }
    },
    {
      "cell_type": "markdown",
      "source": [
        "• Using Python lists, perform matrix multiplication of two matrices of size 1000x1000. Mea-\n",
        "sure and print the time taken for this operation."
      ],
      "metadata": {
        "id": "jvgZ5w3M-3bQ"
      }
    },
    {
      "cell_type": "code",
      "source": [
        "import time\n",
        "\n",
        "def matrix_multiply(A: list[list[int]], B: list[list[int]]) -> list[list[int]]:\n",
        "    rows_A, cols_A = len(A), len(A[0])\n",
        "    rows_B, cols_B = len(B), len(B[0])\n",
        "    if cols_A != rows_B:\n",
        "        raise ValueError(\"Number of columns in A must be equal to the number of rows in B\")\n",
        "    result = [[0] * cols_B for _ in range(rows_A)]\n",
        "    for i in range(rows_A):\n",
        "        for j in range(cols_B):\n",
        "            for k in range(cols_A):\n",
        "                result[i][j] += A[i][k] * B[k][j]\n",
        "\n",
        "    return result\n",
        "matrix_A = [[1] * 1000 for _ in range(1000)]\n",
        "matrix_B = [[1] * 1000 for _ in range(1000)]\n",
        "start_time = time.perf_counter()\n",
        "result_matrix = matrix_multiply(matrix_A, matrix_B)\n",
        "end_time = time.perf_counter()\n",
        "print(f\"Time taken for matrix multiplication using Python lists: {end_time - start_time:.4f} seconds\")\n"
      ],
      "metadata": {
        "colab": {
          "base_uri": "https://localhost:8080/"
        },
        "id": "jFZ9gTUZ-69B",
        "outputId": "877ee97c-c9b4-4c10-e987-bfb24c6e306a"
      },
      "execution_count": null,
      "outputs": [
        {
          "output_type": "stream",
          "name": "stdout",
          "text": [
            "Time taken for matrix multiplication using Python lists: 137.9232 seconds\n"
          ]
        }
      ]
    },
    {
      "cell_type": "markdown",
      "source": [
        "• Using NumPy arrays, perform matrix multiplication of two matrices of size 1000x1000.\n",
        "Measure and print the time taken for this operation."
      ],
      "metadata": {
        "id": "-tz5wFYJ-7VH"
      }
    },
    {
      "cell_type": "code",
      "source": [
        "import numpy as np\n",
        "import time\n",
        "\n",
        "matrix_A = np.ones((1000, 1000))\n",
        "matrix_B = np.ones((1000, 1000))\n",
        "start_time = time.time()\n",
        "\n",
        "result_matrix = np.dot(matrix_A, matrix_B)\n",
        "end_time = time.time()\n",
        "print(f\"Time taken for matrix multiplication using NumPy: {end_time - start_time} seconds\")\n"
      ],
      "metadata": {
        "colab": {
          "base_uri": "https://localhost:8080/"
        },
        "id": "Eo68CWBA-9tv",
        "outputId": "e0a0abaa-7558-4e6e-d239-bdfdf16cd071"
      },
      "execution_count": null,
      "outputs": [
        {
          "output_type": "stream",
          "name": "stdout",
          "text": [
            "Time taken for matrix multiplication using NumPy: 0.08829927444458008 seconds\n"
          ]
        }
      ]
    }
  ]
}